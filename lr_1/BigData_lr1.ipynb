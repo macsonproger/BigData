{
 "cells": [
  {
   "cell_type": "code",
   "execution_count": 1,
   "id": "734dced7-14b0-49ca-83c1-c482516a8bbc",
   "metadata": {},
   "outputs": [],
   "source": [
    "from pyspark import SparkContext, SparkConf \n",
    "from pyspark.sql import SparkSession\n",
    "import pyspark.sql as sql\n",
    "from pyspark.sql.functions import col"
   ]
  },
  {
   "cell_type": "code",
   "execution_count": 2,
   "id": "c53a2686-dba7-47f3-a4a7-8b75319ca899",
   "metadata": {},
   "outputs": [],
   "source": [
    "conf = SparkConf().setAppName(\"Bikes_analysis\").setMaster('yarn')"
   ]
  },
  {
   "cell_type": "code",
   "execution_count": 3,
   "id": "efb2b080-6ed8-4825-8d45-ab9d79600a0f",
   "metadata": {},
   "outputs": [],
   "source": [
    "sc = SparkContext(conf=conf)\n",
    "spark = SparkSession(sc)"
   ]
  },
  {
   "cell_type": "code",
   "execution_count": 4,
   "id": "16524dd1-d54a-4fa0-84a0-27c0beaa84a5",
   "metadata": {},
   "outputs": [
    {
     "data": {
      "text/plain": [
       "DataFrame[id: int, duration: int, start_date: timestamp, start_station_name: string, start_station_id: int, end_date: timestamp, end_station_name: string, end_station_id: int, bike_id: int, subscription_type: string, zip_code: string]"
      ]
     },
     "execution_count": 4,
     "metadata": {},
     "output_type": "execute_result"
    }
   ],
   "source": [
    "tripData = spark.read.option(\"header\", True).option(\"inferSchema\", True).option(\"timestampFormat\", 'M/d/y H:m').csv(\"trips.csv\")\n",
    "tripData"
   ]
  },
  {
   "cell_type": "code",
   "execution_count": 5,
   "id": "044e9ce0-d789-413a-885b-5815daf9038a",
   "metadata": {},
   "outputs": [],
   "source": [
    "stationData = spark.read.option(\"header\", True).option(\"inferSchema\", True).option(\"timestampFormat\", 'M/d/y').csv(\"stations.csv\")"
   ]
  },
  {
   "cell_type": "code",
   "execution_count": 6,
   "id": "11a7547d-8c16-4bc1-9298-6eaf12a5500f",
   "metadata": {},
   "outputs": [
    {
     "name": "stdout",
     "output_type": "stream",
     "text": [
      "root\n",
      " |-- id: integer (nullable = true)\n",
      " |-- duration: integer (nullable = true)\n",
      " |-- start_date: timestamp (nullable = true)\n",
      " |-- start_station_name: string (nullable = true)\n",
      " |-- start_station_id: integer (nullable = true)\n",
      " |-- end_date: timestamp (nullable = true)\n",
      " |-- end_station_name: string (nullable = true)\n",
      " |-- end_station_id: integer (nullable = true)\n",
      " |-- bike_id: integer (nullable = true)\n",
      " |-- subscription_type: string (nullable = true)\n",
      " |-- zip_code: string (nullable = true)\n",
      "\n"
     ]
    }
   ],
   "source": [
    "tripData.printSchema()"
   ]
  },
  {
   "cell_type": "code",
   "execution_count": 7,
   "id": "98f053a0-88ea-411a-97b8-57b9db1bb83d",
   "metadata": {},
   "outputs": [
    {
     "name": "stdout",
     "output_type": "stream",
     "text": [
      "root\n",
      " |-- id: integer (nullable = true)\n",
      " |-- name: string (nullable = true)\n",
      " |-- lat: double (nullable = true)\n",
      " |-- long: double (nullable = true)\n",
      " |-- dock_count: integer (nullable = true)\n",
      " |-- city: string (nullable = true)\n",
      " |-- installation_date: timestamp (nullable = true)\n",
      "\n"
     ]
    }
   ],
   "source": [
    "stationData.printSchema()"
   ]
  },
  {
   "cell_type": "markdown",
   "id": "cdc602cd-e225-4fa5-aae1-7c2c87b68122",
   "metadata": {},
   "source": [
    "1.Найти велосипед с максимальным временем пробега. (находим пробеги всех велосипедов и сортируем их)"
   ]
  },
  {
   "cell_type": "code",
   "execution_count": 8,
   "id": "9d57147f-ec0d-4064-b136-3a01e1435626",
   "metadata": {},
   "outputs": [],
   "source": [
    "tripData.createOrReplaceTempView(\"trips\")"
   ]
  },
  {
   "cell_type": "code",
   "execution_count": 9,
   "id": "d095cc58-ec79-4c96-a7df-fa6a975cb848",
   "metadata": {},
   "outputs": [
    {
     "name": "stdout",
     "output_type": "stream",
     "text": [
      "+-------+-------------+\n",
      "|bike_id|sum(duration)|\n",
      "+-------+-------------+\n",
      "|    535|     36229902|\n",
      "+-------+-------------+\n",
      "\n"
     ]
    }
   ],
   "source": [
    "task1 = tripData.select(col(\"bike_id\"), col(\"duration\")).groupBy(col(\"bike_id\")).sum(\"duration\").sort(\"sum(duration)\", ascending=False).limit(1)\\\n",
    ".show()"
   ]
  },
  {
   "cell_type": "markdown",
   "id": "d023b983-9681-4061-aee7-c5994ae5e8fc",
   "metadata": {},
   "source": [
    "2.Найти наибольшее геодезическое расстояние между станциями. (считаем по формуле Хаверсина)"
   ]
  },
  {
   "cell_type": "code",
   "execution_count": 10,
   "id": "90f2061c-ff9a-411a-9551-1cba18e65962",
   "metadata": {},
   "outputs": [
    {
     "name": "stdout",
     "output_type": "stream",
     "text": [
      "root\n",
      " |-- id: integer (nullable = true)\n",
      " |-- name: string (nullable = true)\n",
      " |-- lat: double (nullable = true)\n",
      " |-- long: double (nullable = true)\n",
      " |-- dock_count: integer (nullable = true)\n",
      " |-- city: string (nullable = true)\n",
      " |-- installation_date: timestamp (nullable = true)\n",
      " |-- id: integer (nullable = true)\n",
      " |-- name: string (nullable = true)\n",
      " |-- lat: double (nullable = true)\n",
      " |-- long: double (nullable = true)\n",
      " |-- dock_count: integer (nullable = true)\n",
      " |-- city: string (nullable = true)\n",
      " |-- installation_date: timestamp (nullable = true)\n",
      "\n"
     ]
    }
   ],
   "source": [
    "joined_stations = stationData.crossJoin(stationData)\n",
    "joined_stations.printSchema()"
   ]
  },
  {
   "cell_type": "code",
   "execution_count": 11,
   "id": "c148abb4-b48e-4aa7-85b7-ac9d4cf524b4",
   "metadata": {},
   "outputs": [],
   "source": [
    "from math import radians, cos, sin, asin, sqrt\n",
    "\n",
    "def Haversin_formula(lat1, lon1, lat2, lon2):\n",
    "    lon1, lat1, lon2, lat2 = map(radians, [lon1, lat1, lon2, lat2])\n",
    "    R_earth = 6371\n",
    "    return 2 * R_earth * asin(sqrt(sin((lat2 - lat1)/2)**2 + cos(lat1) * cos(lat2) * sin((lon2 - lon1)/2)**2))"
   ]
  },
  {
   "cell_type": "code",
   "execution_count": 12,
   "id": "f849de75-1ba7-4b7c-ba1e-493f0a3b6c17",
   "metadata": {},
   "outputs": [],
   "source": [
    "task2 = joined_stations.rdd.map(lambda x: Haversin_formula(x[2], x[3], x[9], x[10])).max()"
   ]
  },
  {
   "cell_type": "code",
   "execution_count": 13,
   "id": "ecd1de55-b744-4b31-b086-ef20071dde09",
   "metadata": {},
   "outputs": [
    {
     "name": "stdout",
     "output_type": "stream",
     "text": [
      "наибольшее геодезическое расстояние между станциями:69.92087595428183км\n"
     ]
    }
   ],
   "source": [
    "print(f'наибольшее геодезическое расстояние между станциями:{task2}км')"
   ]
  },
  {
   "cell_type": "markdown",
   "id": "47a38fe2-e6d4-409b-8881-475a14cf1055",
   "metadata": {},
   "source": [
    "3.Найти путь велосипеда с максимальным временем пробега через станции. (находим поездку с максимальным временем пробега и считаем путь с помощью формулы Хаверсина)"
   ]
  },
  {
   "cell_type": "code",
   "execution_count": 14,
   "id": "471ae2e2-9e5f-4257-9d72-3b3fb47bcd8c",
   "metadata": {},
   "outputs": [
    {
     "name": "stdout",
     "output_type": "stream",
     "text": [
      "путь велосипеда с максимальным временем пробега через станции.:[2.312047985749405] км\n"
     ]
    }
   ],
   "source": [
    "max_duration = tripData.orderBy(col(\"duration\").desc()).limit(1).collect()\n",
    "task3 = joined_stations.rdd.filter(lambda l: (l[1] == max_duration[0].start_station_name) and (l[8] == max_duration[0].end_station_name)).map(lambda x: Haversin_formula(x[2], x[3], x[9], x[10]))\n",
    "print(f'путь велосипеда с максимальным временем пробега через станции.:{task3.collect()} км')"
   ]
  },
  {
   "cell_type": "markdown",
   "id": "5fa74346-192b-4e23-aa6d-6f10bf14fd34",
   "metadata": {},
   "source": [
    "4.Найти количество велосипедов в системе. (находим количества уникальных id велосипедов)"
   ]
  },
  {
   "cell_type": "code",
   "execution_count": 15,
   "id": "77427e22-57be-49c6-9dd3-f4af166800d9",
   "metadata": {},
   "outputs": [
    {
     "name": "stdout",
     "output_type": "stream",
     "text": [
      "+-----------------------+\n",
      "|count(DISTINCT bike_id)|\n",
      "+-----------------------+\n",
      "|                    700|\n",
      "+-----------------------+\n",
      "\n"
     ]
    }
   ],
   "source": [
    "task4 = spark.sql(\"SELECT count(distinct bike_id) FROM trips\")\n",
    "task4.show()"
   ]
  },
  {
   "cell_type": "markdown",
   "id": "255168d4-61dd-4e56-810c-e332f97d6e84",
   "metadata": {},
   "source": [
    "5.Найти пользователей потративших на поездки более 3 часов. (не понял, где взять id пользователя, поэтому брал id поездок)"
   ]
  },
  {
   "cell_type": "code",
   "execution_count": 16,
   "id": "4e64ac14-8f2f-4835-a63e-a47c2baefe9c",
   "metadata": {},
   "outputs": [
    {
     "name": "stdout",
     "output_type": "stream",
     "text": [
      "+------+------------+\n",
      "|    id|sum_duration|\n",
      "+------+------------+\n",
      "|843086|       30644|\n",
      "|831518|       34234|\n",
      "|797846|       11798|\n",
      "|796682|       55696|\n",
      "|781053|       15068|\n",
      "|755329|       13080|\n",
      "|744184|       13622|\n",
      "|730089|       15182|\n",
      "|721109|       11826|\n",
      "|712173|       27468|\n",
      "|702265|       18332|\n",
      "|701901|       23816|\n",
      "|697283|       43534|\n",
      "|692091|       27238|\n",
      "|681960|      156566|\n",
      "|645660|       19188|\n",
      "|645212|       19740|\n",
      "|627911|       15738|\n",
      "|597804|       33998|\n",
      "|589028|       11416|\n",
      "+------+------------+\n",
      "only showing top 20 rows\n",
      "\n"
     ]
    },
    {
     "data": {
      "text/plain": [
       "11394"
      ]
     },
     "execution_count": 16,
     "metadata": {},
     "output_type": "execute_result"
    }
   ],
   "source": [
    "task5 = spark.sql(\"SELECT id, sum_duration FROM ( SELECT id, sum(duration) as sum_duration FROM trips GROUP BY id) WHERE sum_duration > 10800\")\n",
    "task5.show()\n",
    "task5.count()"
   ]
  },
  {
   "cell_type": "code",
   "execution_count": 17,
   "id": "0effef47-216c-499d-ae9b-534e8b4178a8",
   "metadata": {},
   "outputs": [],
   "source": [
    "sc.stop()"
   ]
  }
 ],
 "metadata": {
  "kernelspec": {
   "display_name": "Python 3",
   "language": "python",
   "name": "python3"
  },
  "language_info": {
   "codemirror_mode": {
    "name": "ipython",
    "version": 3
   },
   "file_extension": ".py",
   "mimetype": "text/x-python",
   "name": "python",
   "nbconvert_exporter": "python",
   "pygments_lexer": "ipython3",
   "version": "3.9.5"
  }
 },
 "nbformat": 4,
 "nbformat_minor": 5
}
