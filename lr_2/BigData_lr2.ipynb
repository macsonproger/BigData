{
 "cells": [
  {
   "cell_type": "code",
   "execution_count": 81,
   "id": "52f84c62-623a-412c-96f3-79cc60b042ed",
   "metadata": {},
   "outputs": [],
   "source": [
    "from pyspark import SparkContext, SparkConf \n",
    "from pyspark.sql import SparkSession\n",
    "import pyspark.sql as sql\n",
    "from pyspark.sql.functions import col\n",
    "import os\n",
    "from pyspark.sql.functions import explode\n",
    "from pyspark.sql import Window\n",
    "from pyspark.sql.functions import row_number"
   ]
  },
  {
   "cell_type": "code",
   "execution_count": 3,
   "id": "ccfd6c89-223c-4644-a5a8-02266de7dcdc",
   "metadata": {},
   "outputs": [],
   "source": [
    "conf = SparkConf().setAppName(\"report_analysis\").setMaster('yarn')"
   ]
  },
  {
   "cell_type": "code",
   "execution_count": 4,
   "id": "237519c1-8bbd-47c4-ae6d-d217a90f3894",
   "metadata": {},
   "outputs": [],
   "source": [
    "sc = SparkContext(conf=conf)\n",
    "spark = SparkSession(sc)"
   ]
  },
  {
   "cell_type": "code",
   "execution_count": 44,
   "id": "33913c69-ac94-4f74-806a-5531b4ec95de",
   "metadata": {},
   "outputs": [
    {
     "data": {
      "text/plain": [
       "DataFrame[_AcceptedAnswerId: bigint, _AnswerCount: bigint, _Body: string, _ClosedDate: timestamp, _CommentCount: bigint, _CommunityOwnedDate: timestamp, _CreationDate: timestamp, _FavoriteCount: bigint, _Id: bigint, _LastActivityDate: timestamp, _LastEditDate: timestamp, _LastEditorDisplayName: string, _LastEditorUserId: bigint, _OwnerDisplayName: string, _OwnerUserId: bigint, _ParentId: bigint, _PostTypeId: bigint, _Score: bigint, _Tags: string, _Title: string, _ViewCount: bigint]"
      ]
     },
     "execution_count": 44,
     "metadata": {},
     "output_type": "execute_result"
    }
   ],
   "source": [
    "posts_sample = spark.read.format('xml').option('rootTag', 'posts').option('rowTag', 'row').load(\"posts_sample.xml\")\n",
    "posts_sample"
   ]
  },
  {
   "cell_type": "code",
   "execution_count": 45,
   "id": "511b05e5-253d-4575-9505-b3014fc9f441",
   "metadata": {},
   "outputs": [
    {
     "name": "stdout",
     "output_type": "stream",
     "text": [
      "root\n",
      " |-- _AcceptedAnswerId: long (nullable = true)\n",
      " |-- _AnswerCount: long (nullable = true)\n",
      " |-- _Body: string (nullable = true)\n",
      " |-- _ClosedDate: timestamp (nullable = true)\n",
      " |-- _CommentCount: long (nullable = true)\n",
      " |-- _CommunityOwnedDate: timestamp (nullable = true)\n",
      " |-- _CreationDate: timestamp (nullable = true)\n",
      " |-- _FavoriteCount: long (nullable = true)\n",
      " |-- _Id: long (nullable = true)\n",
      " |-- _LastActivityDate: timestamp (nullable = true)\n",
      " |-- _LastEditDate: timestamp (nullable = true)\n",
      " |-- _LastEditorDisplayName: string (nullable = true)\n",
      " |-- _LastEditorUserId: long (nullable = true)\n",
      " |-- _OwnerDisplayName: string (nullable = true)\n",
      " |-- _OwnerUserId: long (nullable = true)\n",
      " |-- _ParentId: long (nullable = true)\n",
      " |-- _PostTypeId: long (nullable = true)\n",
      " |-- _Score: long (nullable = true)\n",
      " |-- _Tags: string (nullable = true)\n",
      " |-- _Title: string (nullable = true)\n",
      " |-- _ViewCount: long (nullable = true)\n",
      "\n"
     ]
    }
   ],
   "source": [
    "posts_sample.printSchema()"
   ]
  },
  {
   "cell_type": "code",
   "execution_count": 77,
   "id": "46fbb9bf-90e6-433c-bc19-34bec1a9f11d",
   "metadata": {},
   "outputs": [
    {
     "name": "stdout",
     "output_type": "stream",
     "text": [
      "+-----------------------+----------+------------------------------------------------------+\n",
      "|_CreationDate          |_ViewCount|_Tags                                                 |\n",
      "+-----------------------+----------+------------------------------------------------------+\n",
      "|2008-08-01 02:42:52.667|42817     |<c#><floating-point><type-conversion><double><decimal>|\n",
      "|2008-08-01 03:08:08.62 |18214     |<html><css><internet-explorer-7>                      |\n",
      "|2008-08-01 04:40:59.743|555183    |<c#><.net><datetime>                                  |\n",
      "|2008-08-01 04:55:37.967|149445    |<c#><datetime><time><datediff><relative-time-span>    |\n",
      "|2008-08-01 05:42:38.903|176405    |<html><browser><timezone><user-agent><timezone-offset>|\n",
      "|2008-08-01 05:59:11.177|123231    |<.net><math>                                          |\n",
      "|2010-09-22 14:33:21.79 |3650      |<c++><character-encoding>                             |\n",
      "|2010-09-23 10:47:28.92 |617       |<sharepoint><infopath>                                |\n",
      "|2010-09-23 12:53:14.017|1315      |<iphone><app-store><in-app-purchase>                  |\n",
      "|2010-09-23 15:47:00.833|973       |<symfony1><schema><doctrine><fixtures>                |\n",
      "|2010-09-23 16:13:59.443|132       |<java>                                                |\n",
      "|2010-09-24 12:40:26.883|419       |<visual-studio-2010><stylecop>                        |\n",
      "|2010-09-24 20:34:30.57 |869       |<cakephp><file-upload><swfupload>                     |\n",
      "|2010-09-25 21:42:13.08 |1303      |<git><cygwin><putty>                                  |\n",
      "|2010-09-26 16:58:41.887|748       |<drupal><drupal-6>                                    |\n",
      "|2010-09-26 21:07:04.84 |1258      |<php><wordpress><memory>                              |\n",
      "|2010-09-27 09:20:27.263|14972     |<c#><winforms><data-binding><checkedlistbox>          |\n",
      "|2010-09-27 13:48:31.613|274       |<c#><asp.net><exception-handling>                     |\n",
      "|2010-09-28 12:56:45.277|804       |<sql><xml><blob>                                      |\n",
      "|2010-09-28 22:48:31.997|6019      |<.htaccess><codeigniter>                              |\n",
      "+-----------------------+----------+------------------------------------------------------+\n",
      "only showing top 20 rows\n",
      "\n"
     ]
    }
   ],
   "source": [
    "posts_sample_not_null = posts_sample.select(\"_CreationDate\", \"_ViewCount\", \"_Tags\").filter(\"_Tags is not null\")\n",
    "posts_sample_not_null.show(truncate=False)"
   ]
  },
  {
   "cell_type": "code",
   "execution_count": 78,
   "id": "94ca4152-90a3-4951-b515-8f9143dc9475",
   "metadata": {},
   "outputs": [
    {
     "name": "stdout",
     "output_type": "stream",
     "text": [
      "+----+-----+------------------+\n",
      "|year|views|tag               |\n",
      "+----+-----+------------------+\n",
      "|2010|3650 |c++               |\n",
      "|2010|3650 |character-encoding|\n",
      "|2010|617  |sharepoint        |\n",
      "|2010|617  |infopath          |\n",
      "|2010|1315 |iphone            |\n",
      "|2010|1315 |app-store         |\n",
      "|2010|1315 |in-app-purchase   |\n",
      "|2010|973  |symfony1          |\n",
      "|2010|973  |schema            |\n",
      "|2010|973  |doctrine          |\n",
      "|2010|973  |fixtures          |\n",
      "|2010|132  |java              |\n",
      "|2010|419  |visual-studio-2010|\n",
      "|2010|419  |stylecop          |\n",
      "|2010|869  |cakephp           |\n",
      "|2010|869  |file-upload       |\n",
      "|2010|869  |swfupload         |\n",
      "|2010|1303 |git               |\n",
      "|2010|1303 |cygwin            |\n",
      "|2010|1303 |putty             |\n",
      "+----+-----+------------------+\n",
      "only showing top 20 rows\n",
      "\n"
     ]
    }
   ],
   "source": [
    "posts_sample_not_null_only_year = posts_sample_not_null.rdd.map(lambda x: (str(x[0]).split('-')[0], x[1], x[2][1:-1].split('><'))).toDF([\"year\", \"views\", \"tags\"])\n",
    "posts_sample_not_null_only_year = posts_sample_not_null_only_year.filter(col(\"year\") >= 2010).filter(col(\"year\") <= 2020)\n",
    "posts_sample_not_null_only_year_explode = posts_sample_not_null_only_year.withColumn(\"tag\", explode(posts_sample_not_null_only_year[\"tags\"])).drop('tags')\n",
    "posts_sample_not_null_only_year_explode.show(truncate=False)"
   ]
  },
  {
   "cell_type": "code",
   "execution_count": 79,
   "id": "c66868c0-64c8-4fcf-a737-97732340af95",
   "metadata": {},
   "outputs": [
    {
     "name": "stdout",
     "output_type": "stream",
     "text": [
      "+------------+--------------------+\n",
      "|        name|       wikipedia_url|\n",
      "+------------+--------------------+\n",
      "|     A# .NET|https://en.wikipe...|\n",
      "|  A# (Axiom)|https://en.wikipe...|\n",
      "|  A-0 System|https://en.wikipe...|\n",
      "|          A+|https://en.wikipe...|\n",
      "|         A++|https://en.wikipe...|\n",
      "|        ABAP|https://en.wikipe...|\n",
      "|         ABC|https://en.wikipe...|\n",
      "|   ABC ALGOL|https://en.wikipe...|\n",
      "|       ABSET|https://en.wikipe...|\n",
      "|       ABSYS|https://en.wikipe...|\n",
      "|         ACC|https://en.wikipe...|\n",
      "|      Accent|https://en.wikipe...|\n",
      "|    Ace DASL|https://en.wikipe...|\n",
      "|        ACL2|https://en.wikipe...|\n",
      "|     ACT-III|https://en.wikipe...|\n",
      "|     Action!|https://en.wikipe...|\n",
      "|ActionScript|https://en.wikipe...|\n",
      "|         Ada|https://en.wikipe...|\n",
      "|     Adenine|https://en.wikipe...|\n",
      "|        Agda|https://en.wikipe...|\n",
      "+------------+--------------------+\n",
      "only showing top 20 rows\n",
      "\n"
     ]
    }
   ],
   "source": [
    "programming_languages = spark.read.option(\"header\", True).option(\"inferSchema\", True).csv(\"programming-languages.csv\")\n",
    "programming_languages.show()"
   ]
  },
  {
   "cell_type": "code",
   "execution_count": 82,
   "id": "c0270f18-2639-4611-b433-1f53128506bc",
   "metadata": {},
   "outputs": [
    {
     "name": "stdout",
     "output_type": "stream",
     "text": [
      "+----+-----+-----------+\n",
      "|year|views|   language|\n",
      "+----+-----+-----------+\n",
      "|2010|  132|       java|\n",
      "|2010| 1258|        php|\n",
      "|2010| 9649|       ruby|\n",
      "|2010| 2384|          c|\n",
      "|2010| 1987|        php|\n",
      "|2010| 3321|     python|\n",
      "|2010|  128| javascript|\n",
      "|2010|  477|applescript|\n",
      "|2010| 1748|        php|\n",
      "|2010|  998|        php|\n",
      "|2010| 2095| javascript|\n",
      "|2010|  447|        sed|\n",
      "|2010| 6558|     python|\n",
      "|2010|  214|       java|\n",
      "|2010|  214|       ruby|\n",
      "|2010|  852|objective-c|\n",
      "|2010|  179| javascript|\n",
      "|2010| 6709|          r|\n",
      "|2010|   78|        php|\n",
      "|2010| 1280| javascript|\n",
      "+----+-----+-----------+\n",
      "only showing top 20 rows\n",
      "\n"
     ]
    }
   ],
   "source": [
    "names = programming_languages.select(\"name\").rdd.map(lambda x: x[0].lower()).collect()\n",
    "posts_sample_not_null_only_year_explode_lang = posts_sample_not_null_only_year_explode.filter(posts_sample_not_null_only_year_explode.tag.isin(names)).withColumnRenamed(\"tag\", \"language\")\n",
    "posts_sample_not_null_only_year_explode_lang.show()"
   ]
  },
  {
   "cell_type": "code",
   "execution_count": 83,
   "id": "c3dde219-cf14-4775-815d-33f972a7aa13",
   "metadata": {},
   "outputs": [
    {
     "name": "stdout",
     "output_type": "stream",
     "text": [
      "+----+-----------+----------+\n",
      "|year|   language|sum(views)|\n",
      "+----+-----------+----------+\n",
      "|2013|     erlang|      2302|\n",
      "|2017| typescript|     29031|\n",
      "|2017|        sed|        93|\n",
      "|2013| javascript|    609571|\n",
      "|2013|         f#|      4317|\n",
      "|2012| powershell|     17311|\n",
      "|2019|        php|      3753|\n",
      "|2017|    haskell|      4040|\n",
      "|2013| autohotkey|      4421|\n",
      "|2013|applescript|      2059|\n",
      "|2019|      xpath|        27|\n",
      "|2015|     racket|       762|\n",
      "|2017|         go|      1356|\n",
      "|2018|      perl6|       109|\n",
      "|2015|       dart|       402|\n",
      "|2015|       rust|       117|\n",
      "|2012|         f#|      1222|\n",
      "|2018|     python|     99996|\n",
      "|2017|     prolog|        76|\n",
      "|2016|      latex|       461|\n",
      "+----+-----------+----------+\n",
      "only showing top 20 rows\n",
      "\n"
     ]
    }
   ],
   "source": [
    "posts_sample_not_null_only_year_explode_lang = posts_sample_not_null_only_year_explode_lang.groupBy(\"year\", \"language\").agg({\"views\": \"sum\"})\n",
    "posts_sample_not_null_only_year_explode_lang.show()"
   ]
  },
  {
   "cell_type": "code",
   "execution_count": 89,
   "id": "08cafc66-eb97-4cf9-ae4e-2a27df109df1",
   "metadata": {},
   "outputs": [
    {
     "name": "stdout",
     "output_type": "stream",
     "text": [
      "+----+-----------+-------+----------+\n",
      "|year|   language|  views|row_number|\n",
      "+----+-----------+-------+----------+\n",
      "|2010|        php|1189629|         1|\n",
      "|2010|       java| 563211|         2|\n",
      "|2010| javascript| 316131|         3|\n",
      "|2010|objective-c|  97009|         4|\n",
      "|2010|       ruby|  76215|         5|\n",
      "|2010|          c|  66587|         6|\n",
      "|2010|     python|  60672|         7|\n",
      "|2010|     matlab|  51865|         8|\n",
      "|2010|applescript|  32305|         9|\n",
      "|2010|     delphi|  13065|        10|\n",
      "|2011| javascript| 809078|         1|\n",
      "|2011|       java| 389834|         2|\n",
      "|2011|        php| 246770|         3|\n",
      "|2011|          c| 238277|         4|\n",
      "|2011|objective-c| 218934|         5|\n",
      "|2011|     python| 203180|         6|\n",
      "|2011|       bash|  60805|         7|\n",
      "|2011|       ruby|  39223|         8|\n",
      "|2011|       perl|  28502|         9|\n",
      "|2011|     matlab|  18816|        10|\n",
      "+----+-----------+-------+----------+\n",
      "only showing top 20 rows\n",
      "\n"
     ]
    }
   ],
   "source": [
    "window = Window.partitionBy(posts_sample_not_null_only_year_explode_lang['year']).orderBy(posts_sample_not_null_only_year_explode_lang['sum(views)'].desc())\n",
    "posts_sample_not_null_only_year_explode_lang_10 = posts_sample_not_null_only_year_explode_lang.select('*', row_number().over(window).alias('row_number')).filter(col('row_number') <= 10).withColumnRenamed(\"sum(views)\", \"views\")\n",
    "posts_sample_not_null_only_year_explode_lang_10 = posts_sample_not_null_only_year_explode_lang_10.orderBy(col(\"year\").asc(), col(\"sum(views)\").desc())\n",
    "posts_sample_not_null_only_year_explode_lang_10.show()\n",
    "posts_sample_not_null_only_year_explode_lang_10.write.mode('overwrite').parquet(\"top_10_programm_languages_per_year_between_2010_and_2020.parquet\")"
   ]
  },
  {
   "cell_type": "code",
   "execution_count": 90,
   "id": "a3fd913e-1974-4bcd-84c9-95e6034793f4",
   "metadata": {},
   "outputs": [],
   "source": [
    "posts_sample_not_null_only_year_explode_lang_10.write.mode('overwrite').parquet(\"top_10_languages_per_year_between_2010_and_2020.parquet\")"
   ]
  },
  {
   "cell_type": "code",
   "execution_count": null,
   "id": "2b38ddb4-cbd8-45c4-8d59-9d21d7e5761f",
   "metadata": {},
   "outputs": [],
   "source": []
  }
 ],
 "metadata": {
  "kernelspec": {
   "display_name": "Python 3",
   "language": "python",
   "name": "python3"
  },
  "language_info": {
   "codemirror_mode": {
    "name": "ipython",
    "version": 3
   },
   "file_extension": ".py",
   "mimetype": "text/x-python",
   "name": "python",
   "nbconvert_exporter": "python",
   "pygments_lexer": "ipython3",
   "version": "3.9.5"
  }
 },
 "nbformat": 4,
 "nbformat_minor": 5
}
